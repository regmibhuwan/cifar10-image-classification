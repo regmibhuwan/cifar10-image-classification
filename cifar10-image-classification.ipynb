{
  "nbformat": 4,
  "nbformat_minor": 0,
  "metadata": {
    "colab": {
      "provenance": []
    },
    "kernelspec": {
      "name": "python3",
      "display_name": "Python 3"
    },
    "language_info": {
      "name": "python"
    }
  },
  "cells": [
    {
      "cell_type": "code",
      "source": [
        "#Import Necessary Libraries"
      ],
      "metadata": {
        "id": "9e6IvkNXM4eu"
      },
      "execution_count": 3,
      "outputs": []
    },
    {
      "cell_type": "code",
      "execution_count": 4,
      "metadata": {
        "id": "DXGqGxg_-crT"
      },
      "outputs": [],
      "source": [
        "import torch  # Importing PyTorch library\n",
        "import torchvision  # Importing torchvision library for handling image data\n",
        "import torchvision.transforms as transforms  # Importing transforms from torchvision to transform images\n",
        "import matplotlib.pyplot as plt  # Importing matplotlib for plotting images\n",
        "import numpy as np  # Importing NumPy for handling arrays"
      ]
    },
    {
      "cell_type": "code",
      "source": [
        "#Define a Function to show an image"
      ],
      "metadata": {
        "id": "Dyt4_675-eHb"
      },
      "execution_count": 5,
      "outputs": []
    },
    {
      "cell_type": "code",
      "source": [
        "def imshow(img):\n",
        "    img = img / 2 + 0.5  # Unnormalize the image\n",
        "    npimg = img.numpy()  # Convert image to NumPy array\n",
        "    plt.imshow(np.transpose(npimg, (1, 2, 0)))  # Transpose and display the image\n",
        "    plt.show()  # Show the image\n",
        "\n"
      ],
      "metadata": {
        "id": "Qu5s3lWyNDy5"
      },
      "execution_count": 6,
      "outputs": []
    },
    {
      "cell_type": "code",
      "source": [
        "# Define the Transformations"
      ],
      "metadata": {
        "id": "6p2mzhKsSGiP"
      },
      "execution_count": 7,
      "outputs": []
    },
    {
      "cell_type": "code",
      "source": [
        "transform = transforms.Compose(\n",
        "    [transforms.ToTensor(),  # Convert image to tensor\n",
        "     transforms.Normalize((0.5, 0.5, 0.5), (0.5, 0.5, 0.5))])  # Normalize image"
      ],
      "metadata": {
        "id": "qs-fta19SMhm"
      },
      "execution_count": 8,
      "outputs": []
    },
    {
      "cell_type": "code",
      "source": [
        "#Set Batch Size"
      ],
      "metadata": {
        "id": "KC4A5XgDSsKS"
      },
      "execution_count": 9,
      "outputs": []
    },
    {
      "cell_type": "code",
      "source": [
        "batch_size = 4  # Number of images per batch"
      ],
      "metadata": {
        "id": "7WwR43cXSv07"
      },
      "execution_count": 10,
      "outputs": []
    },
    {
      "cell_type": "code",
      "source": [
        "# Load and normalize the CIFAR-10 Dataset"
      ],
      "metadata": {
        "id": "WvUM1gHuS1ab"
      },
      "execution_count": 11,
      "outputs": []
    },
    {
      "cell_type": "code",
      "source": [
        "trainset = torchvision.datasets.CIFAR10(root='./data', train=True,  # Load CIFAR-10 training set\n",
        "                                        download=True, transform=transform)  # Apply transformations\n",
        "trainloader = torch.utils.data.DataLoader(trainset, batch_size=batch_size,  # Create data loader for training set\n",
        "                                          shuffle=True, num_workers=2)  # Shuffle data and use 2 worker threads\n",
        "\n",
        "testset = torchvision.datasets.CIFAR10(root='./data', train=False,  # Load CIFAR-10 test set\n",
        "                                       download=True, transform=transform)  # Apply transformations\n",
        "testloader = torch.utils.data.DataLoader(testset, batch_size=batch_size,  # Create data loader for test set\n",
        "                                         shuffle=False, num_workers=2)  # Do not shuffle data and use 2 worker threads"
      ],
      "metadata": {
        "colab": {
          "base_uri": "https://localhost:8080/"
        },
        "id": "yxdGIeIPS57U",
        "outputId": "7f5b6ef2-35cb-4c6e-b823-025b3b8917a8"
      },
      "execution_count": 12,
      "outputs": [
        {
          "output_type": "stream",
          "name": "stdout",
          "text": [
            "Downloading https://www.cs.toronto.edu/~kriz/cifar-10-python.tar.gz to ./data/cifar-10-python.tar.gz\n"
          ]
        },
        {
          "output_type": "stream",
          "name": "stderr",
          "text": [
            "100%|██████████| 170498071/170498071 [00:03<00:00, 43317836.92it/s]\n"
          ]
        },
        {
          "output_type": "stream",
          "name": "stdout",
          "text": [
            "Extracting ./data/cifar-10-python.tar.gz to ./data\n",
            "Files already downloaded and verified\n"
          ]
        }
      ]
    },
    {
      "cell_type": "code",
      "source": [
        "#Define Class Names"
      ],
      "metadata": {
        "id": "k83ODs_xWE9S"
      },
      "execution_count": 13,
      "outputs": []
    },
    {
      "cell_type": "code",
      "source": [
        "classes = ('plane', 'car', 'bird', 'cat',  # Class names in CIFAR-10 dataset\n",
        "           'deer', 'dog', 'frog', 'horse', 'ship', 'truck')"
      ],
      "metadata": {
        "id": "B_PCVb9zWLRP"
      },
      "execution_count": 14,
      "outputs": []
    },
    {
      "cell_type": "code",
      "source": [
        "#Get Some Random Training Images"
      ],
      "metadata": {
        "id": "MXjN7XXjWZZl"
      },
      "execution_count": 15,
      "outputs": []
    },
    {
      "cell_type": "code",
      "source": [
        "dataiter = iter(trainloader)  # Create an iterator for the training data loader\n",
        "images, labels = next(dataiter)  # Get the next batch of images and labels"
      ],
      "metadata": {
        "id": "JDPty3dUWdxB"
      },
      "execution_count": 16,
      "outputs": []
    },
    {
      "cell_type": "code",
      "source": [
        "#Show Images"
      ],
      "metadata": {
        "id": "VW0udHfeWj4T"
      },
      "execution_count": 17,
      "outputs": []
    },
    {
      "cell_type": "code",
      "source": [
        "imshow(torchvision.utils.make_grid(images))  # Display a grid of images\n",
        "print(' '.join(f'{classes[labels[j]]:5s}' for j in range(batch_size)))  # Print the labels of the images"
      ],
      "metadata": {
        "colab": {
          "base_uri": "https://localhost:8080/",
          "height": 211
        },
        "id": "Nh7iTKv3WvQr",
        "outputId": "e4ba3fda-f6cf-4ed7-a1b4-f8adb59e11d8"
      },
      "execution_count": 18,
      "outputs": [
        {
          "output_type": "display_data",
          "data": {
            "text/plain": [
              "<Figure size 640x480 with 1 Axes>"
            ],
            "image/png": "[encoded data removed]"
          },
          "metadata": {}
        },
        {
          "output_type": "stream",
          "name": "stdout",
          "text": [
            "cat   deer  plane bird \n"
          ]
        }
      ]
    },
    {
      "cell_type": "code",
      "source": [
        "#Define  a Convolutional Neural Network"
      ],
      "metadata": {
        "id": "68EQNz5aW_VF"
      },
      "execution_count": 19,
      "outputs": []
    },
    {
      "cell_type": "code",
      "source": [
        "import torch.nn as nn  # Importing neural network module from PyTorch\n",
        "import torch.nn.functional as F  # Importing functional module from PyTorch\n",
        "\n",
        "class Net(nn.Module):  # Defining the neural network class\n",
        "    def __init__(self):  # Initializing the network\n",
        "        super().__init__()  # Calling the parent class's initializer\n",
        "        self.conv1 = nn.Conv2d(3, 6, 5)  # First convolutional layer\n",
        "        self.pool = nn.MaxPool2d(2, 2)  # Max pooling layer\n",
        "        self.conv2 = nn.Conv2d(6, 16, 5)  # Second convolutional layer\n",
        "        self.fc1 = nn.Linear(16 * 5 * 5, 120)  # First fully connected layer\n",
        "        self.fc2 = nn.Linear(120, 84)  # Second fully connected layer\n",
        "        self.fc3 = nn.Linear(84, 10)  # Third fully connected layer\n",
        "\n",
        "    def forward(self, x):  # Defining the forward pass\n",
        "        x = self.pool(F.relu(self.conv1(x)))  # Apply first conv layer, ReLU, and pooling\n",
        "        x = self.pool(F.relu(self.conv2(x)))  # Apply second conv layer, ReLU, and pooling\n",
        "        x = torch.flatten(x, 1)  # Flatten the tensor\n",
        "        x = F.relu(self.fc1(x))  # Apply first fully connected layer and ReLU\n",
        "        x = F.relu(self.fc2(x))  # Apply second fully connected layer and ReLU\n",
        "        x = self.fc3(x)  # Apply third fully connected layer\n",
        "        return x  # Return the output\n",
        "\n",
        "net = Net()  # Create an instance of the network"
      ],
      "metadata": {
        "id": "vz2sY2T0XPHh"
      },
      "execution_count": 20,
      "outputs": []
    },
    {
      "cell_type": "code",
      "source": [
        "#Define a Loss Function and Optimizer"
      ],
      "metadata": {
        "id": "mMGzID7wdZt-"
      },
      "execution_count": 21,
      "outputs": []
    },
    {
      "cell_type": "code",
      "source": [
        "import torch.optim as optim # # Importing optimization module from PyTorch\n",
        "\n",
        "criterion = nn.CrossEntropyLoss() #defines the loss function\n",
        "optimizer = optim.SGD(net.parameters(), lr=0.001, momentum=0.9) #learning rate and momentum applied\n"
      ],
      "metadata": {
        "id": "7bAUL02Nddmb"
      },
      "execution_count": 22,
      "outputs": []
    },
    {
      "cell_type": "code",
      "source": [
        "#Train the network"
      ],
      "metadata": {
        "id": "xTXS_3S7d8xY"
      },
      "execution_count": 23,
      "outputs": []
    },
    {
      "cell_type": "code",
      "source": [
        "for epoch in range(2):  # Loop over the dataset multiple times\n",
        "\n",
        "    running_loss = 0.0  # Initialize running loss\n",
        "    for i, data in enumerate(trainloader, 0):  # Loop through the training data\n",
        "        inputs, labels = data  # Get the inputs and labels from the data\n",
        "\n",
        "        optimizer.zero_grad()  # Zero the parameter gradients\n",
        "\n",
        "        outputs = net(inputs)  # Forward pass\n",
        "        loss = criterion(outputs, labels)  # Compute the loss\n",
        "        loss.backward()  # Backward pass\n",
        "        optimizer.step()  # Optimize the parameters\n",
        "\n",
        "        running_loss += loss.item()  # Update running loss\n",
        "        if i % 2000 == 1999:  # Print every 2000 mini-batches\n",
        "            print(f'[{epoch + 1}, {i + 1:5d}] loss: {running_loss / 2000:.3f}')  # Print loss\n",
        "            running_loss = 0.0  # Reset running loss\n",
        "\n",
        "print('Finished Training')  # Print when training is done"
      ],
      "metadata": {
        "id": "-uYtJt4gd_qG",
        "colab": {
          "base_uri": "https://localhost:8080/"
        },
        "outputId": "33dd2eb4-5fd4-44aa-d574-3aa16504e8d7"
      },
      "execution_count": 24,
      "outputs": [
        {
          "output_type": "stream",
          "name": "stdout",
          "text": [
            "[1,  2000] loss: 2.175\n",
            "[1,  4000] loss: 1.845\n",
            "[1,  6000] loss: 1.688\n",
            "[1,  8000] loss: 1.589\n",
            "[1, 10000] loss: 1.534\n",
            "[1, 12000] loss: 1.501\n",
            "[2,  2000] loss: 1.436\n",
            "[2,  4000] loss: 1.430\n",
            "[2,  6000] loss: 1.396\n",
            "[2,  8000] loss: 1.344\n",
            "[2, 10000] loss: 1.377\n",
            "[2, 12000] loss: 1.343\n",
            "Finished Training\n"
          ]
        }
      ]
    },
    {
      "cell_type": "code",
      "source": [
        "#Save the trained model"
      ],
      "metadata": {
        "id": "srOZ60fZshuO"
      },
      "execution_count": 25,
      "outputs": []
    },
    {
      "cell_type": "code",
      "source": [
        "PATH = './cifar_net.pth' #defines the path to save the model\n",
        "torch.save(net.state_dict(), PATH) #save the model's state to the specified path"
      ],
      "metadata": {
        "id": "RkoPKNzMxMGK"
      },
      "execution_count": 26,
      "outputs": []
    },
    {
      "cell_type": "code",
      "source": [
        "#Test the Network on the Test Data"
      ],
      "metadata": {
        "id": "4jmCTt46xVzx"
      },
      "execution_count": 27,
      "outputs": []
    },
    {
      "cell_type": "code",
      "source": [
        "dataiter = iter(testloader)  # Create an iterator for the test data loader\n",
        "images, labels = next(dataiter)  # Get the next batch of test images and labels\n",
        "\n",
        "imshow(torchvision.utils.make_grid(images))  # Display the test images\n",
        "print('GroundTruth: ', ' '.join(f'{classes[labels[j]]:5s}' for j in range(4)))  # Print the actual labels\n",
        "\n",
        "net = Net()  # Recreate the network\n",
        "net.load_state_dict(torch.load(PATH))  # Load the saved model's state"
      ],
      "metadata": {
        "id": "dddhCZkZxmKi",
        "colab": {
          "base_uri": "https://localhost:8080/",
          "height": 229
        },
        "outputId": "5e4cf27c-c5df-4b00-d491-858dc106b23f"
      },
      "execution_count": 28,
      "outputs": [
        {
          "output_type": "display_data",
          "data": {
            "text/plain": [
              "<Figure size 640x480 with 1 Axes>"
            ],
            "image/png": "[encoded data removed]"
          },
          "metadata": {}
        },
        {
          "output_type": "stream",
          "name": "stdout",
          "text": [
            "GroundTruth:  cat   ship  ship  plane\n"
          ]
        },
        {
          "output_type": "execute_result",
          "data": {
            "text/plain": [
              "<All keys matched successfully>"
            ]
          },
          "metadata": {},
          "execution_count": 28
        }
      ]
    },
    {
      "cell_type": "code",
      "source": [
        "#Get Predictions"
      ],
      "metadata": {
        "id": "av5lrROsyimp"
      },
      "execution_count": 29,
      "outputs": []
    },
    {
      "cell_type": "code",
      "source": [
        "outputs = net(images)  # Get predictions for the test images\n",
        "_, predicted = torch.max(outputs, 1)  # Get the predicted class\n",
        "\n",
        "print('Predicted: ', ' '.join(f'{classes[predicted[j]]:5s}' for j in range(4)))  # Print the predicted labels"
      ],
      "metadata": {
        "id": "3UyKHVDv4Nl0",
        "colab": {
          "base_uri": "https://localhost:8080/"
        },
        "outputId": "2ba6dbc1-afd8-496a-bccc-5820fbab1502"
      },
      "execution_count": 30,
      "outputs": [
        {
          "output_type": "stream",
          "name": "stdout",
          "text": [
            "Predicted:  cat   car   car   plane\n"
          ]
        }
      ]
    },
    {
      "cell_type": "code",
      "source": [
        "#Evaluate the Network's Performance on the Entire Dataset"
      ],
      "metadata": {
        "id": "qXezbbRQz9hZ"
      },
      "execution_count": 31,
      "outputs": []
    },
    {
      "cell_type": "code",
      "source": [
        "correct = 0  # Initialize correct predictions counter\n",
        "total = 0  # Initialize total samples counter\n",
        "with torch.no_grad():  # Disable gradient calculation\n",
        "    for data in testloader:  # Loop through the test data\n",
        "        images, labels = data  # Get the test images and labels\n",
        "        outputs = net(images)  # Get predictions\n",
        "        _, predicted = torch.max(outputs.data, 1)  # Get the predicted class\n",
        "        total += labels.size(0)  # Increment total samples counter\n",
        "        correct += (predicted == labels).sum().item()  # Increment correct predictions counter\n",
        "\n",
        "print(f'Accuracy of the network on the 10000 test images: {100 * correct // total} %')  # Print accuracy"
      ],
      "metadata": {
        "colab": {
          "base_uri": "https://localhost:8080/"
        },
        "id": "B_Lpzc410GdF",
        "outputId": "33c9dc0b-101f-4b1b-c4ca-8a7ae75ac6e8"
      },
      "execution_count": 32,
      "outputs": [
        {
          "output_type": "stream",
          "name": "stdout",
          "text": [
            "Accuracy of the network on the 10000 test images: 51 %\n"
          ]
        }
      ]
    },
    {
      "cell_type": "code",
      "source": [
        "#Evaluate Performance for Each Class"
      ],
      "metadata": {
        "id": "drFFm1N30okC"
      },
      "execution_count": 33,
      "outputs": []
    },
    {
      "cell_type": "code",
      "source": [
        "correct_pred = {classname: 0 for classname in classes}  # Initialize correct predictions counter for each class\n",
        "total_pred = {classname: 0 for classname in classes}  # Initialize total samples counter for each class\n",
        "\n",
        "with torch.no_grad():  # Disable gradient calculation\n",
        "    for data in testloader:  # Loop through the test data\n",
        "        images, labels = data  # Get the test images and labels\n",
        "        outputs = net(images)  # Get predictions\n",
        "        _, predictions = torch.max(outputs, 1)  # Get the predicted class\n",
        "        for label, prediction in zip(labels, predictions):  # Loop through the labels and predictions\n",
        "            if label == prediction:  # If the prediction is correct\n",
        "                correct_pred[classes[label]] += 1  # Increment correct predictions counter for the class\n",
        "            total_pred[classes[label]] += 1  # Increment total samples counter for the class\n",
        "\n",
        "for classname, correct_count in correct_pred.items():  # Loop through the classes\n",
        "    accuracy = 100 * float(correct_count) / total_pred[classname]  # Compute the accuracy for the class\n",
        "    print(f'Accuracy for class: {classname:5s} is {accuracy:.1f} %')  # Print the accuracy for the class\n"
      ],
      "metadata": {
        "colab": {
          "base_uri": "https://localhost:8080/"
        },
        "id": "c81otNmz3wDS",
        "outputId": "cfcc5eb5-764a-4dde-fd08-46e3785a4ec4"
      },
      "execution_count": 34,
      "outputs": [
        {
          "output_type": "stream",
          "name": "stdout",
          "text": [
            "Accuracy for class: plane is 64.0 %\n",
            "Accuracy for class: car   is 60.5 %\n",
            "Accuracy for class: bird  is 16.9 %\n",
            "Accuracy for class: cat   is 29.7 %\n",
            "Accuracy for class: deer  is 76.4 %\n",
            "Accuracy for class: dog   is 28.3 %\n",
            "Accuracy for class: frog  is 49.8 %\n",
            "Accuracy for class: horse is 62.9 %\n",
            "Accuracy for class: ship  is 58.4 %\n",
            "Accuracy for class: truck is 68.5 %\n"
          ]
        }
      ]
    },
    {
      "cell_type": "code",
      "source": [
        "# Check if GPU is available and move the model to GPU"
      ],
      "metadata": {
        "id": "OJg59S6u34xc"
      },
      "execution_count": 35,
      "outputs": []
    },
    {
      "cell_type": "code",
      "source": [
        "device = torch.device('cuda:0' if torch.cuda.is_available() else 'cpu')  # Check if GPU is available\n",
        "print(device)  # Print the device being used (CPU or GPU)\n",
        "net.to(device)  # Move the network to the GPU if available\n",
        "\n",
        "# Ensure inputs and labels are also moved to GPU\n",
        "inputs, labels = data[0].to(device), data[1].to(device)  # Move inputs and labels to GPU if available"
      ],
      "metadata": {
        "colab": {
          "base_uri": "https://localhost:8080/"
        },
        "id": "YpVeTmOk35V_",
        "outputId": "e5cfa37c-e32f-4b86-b78e-4bac84b11735"
      },
      "execution_count": 36,
      "outputs": [
        {
          "output_type": "stream",
          "name": "stdout",
          "text": [
            "cpu\n"
          ]
        }
      ]
    },
    {
      "cell_type": "code",
      "source": [],
      "metadata": {
        "id": "kkKOPadG4MNF"
      },
      "execution_count": 36,
      "outputs": []
    }
  ]
}